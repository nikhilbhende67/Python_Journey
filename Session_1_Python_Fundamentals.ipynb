{
  "nbformat": 4,
  "nbformat_minor": 0,
  "metadata": {
    "colab": {
      "provenance": [],
      "include_colab_link": true
    },
    "kernelspec": {
      "name": "python3",
      "display_name": "Python 3"
    },
    "language_info": {
      "name": "python"
    }
  },
  "cells": [
    {
      "cell_type": "markdown",
      "metadata": {
        "id": "view-in-github",
        "colab_type": "text"
      },
      "source": [
        "<a href=\"https://colab.research.google.com/github/nikhilbhende67/Python_Journey/blob/main/Session_1_Python_Fundamentals.ipynb\" target=\"_parent\"><img src=\"https://colab.research.google.com/assets/colab-badge.svg\" alt=\"Open In Colab\"/></a>"
      ]
    },
    {
      "cell_type": "markdown",
      "source": [
        "# Task : Session 1\n",
        "Solve these questions own your own and try to test yourself what you have learned in the session.\n",
        "\n",
        "Happy Learning!"
      ],
      "metadata": {
        "id": "A05OG15VqOPF"
      }
    },
    {
      "cell_type": "markdown",
      "source": [
        "### Q1 :- Print the given strings as per stated format.\n",
        "\n",
        "**Given strings**:\n",
        "```\n",
        "\"Data\" \"Science\" \"Mentorship\" \"Program\"\n",
        "\"By\" \"CampusX\"\n",
        "```\n",
        "**Output**:\n",
        "```\n",
        "Data-Science-Mentorship-Program-started-By-CampusX\n",
        "```\n",
        "\n",
        "Concept- [Seperator and End]"
      ],
      "metadata": {
        "id": "2doIXf8bqe9_"
      }
    },
    {
      "cell_type": "code",
      "source": [
        "# Q1 :- Print the given strings as per stated format.\n",
        "\n",
        "print(\"Data\",\"Science\",\"Mentorship\",\"Program\",sep=\"-\" ,end= \"-started-\")\n",
        "print(\"By\",\"CampusX\", sep=\"-\")"
      ],
      "metadata": {
        "id": "Xx41AVLTLO60",
        "outputId": "cb1d0730-e3e7-4c43-9ece-fe235477d193",
        "colab": {
          "base_uri": "https://localhost:8080/"
        }
      },
      "execution_count": null,
      "outputs": [
        {
          "output_type": "stream",
          "name": "stdout",
          "text": [
            "Data-Science-Mentorship-Program-started-By-CampusX\n"
          ]
        }
      ]
    },
    {
      "cell_type": "markdown",
      "source": [
        "### Q2:- Write a program that will convert celsius value to fahrenheit."
      ],
      "metadata": {
        "id": "1KUpN7ZTrC3_"
      }
    },
    {
      "cell_type": "code",
      "source": [
        "# formula to convert celsius value to fahrenheit.\n",
        "# °F = (°C * (9/5)) + 32\n",
        "\n",
        "celsius = float(input(f\"Enter the Temperature in Celsius: \"))\n",
        "fahren = ((celsius)*(9/5)) + 32\n",
        "print(f\"Enter the Temperature in fahrenheit: {round(fahren,2)}°F\")"
      ],
      "metadata": {
        "id": "yxKYhYQiqWfj",
        "outputId": "bf081812-e742-4075-ea01-d53fb50c29c5",
        "colab": {
          "base_uri": "https://localhost:8080/"
        }
      },
      "execution_count": null,
      "outputs": [
        {
          "output_type": "stream",
          "name": "stdout",
          "text": [
            "Enter the Temperature in Celsius: 45\n",
            "Enter the Temperature in fahrenheit: 113.0°F\n"
          ]
        }
      ]
    },
    {
      "cell_type": "markdown",
      "source": [
        "### Q3:- Take 2 numbers as input from the user.Write a program to swap the numbers without using any special python syntax."
      ],
      "metadata": {
        "id": "RLrOBBJurLB2"
      }
    },
    {
      "cell_type": "code",
      "source": [
        "num1 = int(input(f\"Enter the Number 1 Value: \"))\n",
        "num2 = int(input(f\"Enter the Number 2 Value: \"))\n",
        "\n",
        "num_1= ((num1+num2)-num1)\n",
        "num_2= ((num1+num2)-num2)\n",
        "\n",
        "print(f\"---> After swapping <---\")\n",
        "print(f\"The value of Number 1 is {num_1}\")\n",
        "print(f\"The value of Number 2 is {num_2}\")"
      ],
      "metadata": {
        "id": "yPn7if0TrJ4F",
        "outputId": "b8e6c643-8c9a-45d9-d8f8-a0bc9970cd8a",
        "colab": {
          "base_uri": "https://localhost:8080/"
        }
      },
      "execution_count": null,
      "outputs": [
        {
          "output_type": "stream",
          "name": "stdout",
          "text": [
            "Enter the Number 1 Value: -90\n",
            "Enter the Number 2 Value: 87\n",
            "---> After swapping <---\n",
            "The value of Number 1 is 87\n",
            "The value of Number 2 is -90\n"
          ]
        }
      ]
    },
    {
      "cell_type": "markdown",
      "source": [
        "### Q4:- Write a program to find the euclidean distance between two coordinates.Take both the coordinates from the user as input."
      ],
      "metadata": {
        "id": "waLCP1bjr7ML"
      }
    },
    {
      "cell_type": "code",
      "source": [
        "x1 = float(input(f\"Enter the X of First Point: \"))\n",
        "y1 = float(input(f\"Enter the Y of First Point: \"))\n",
        "\n",
        "x2 = float(input(f\"Enter the X of Another Point: \"))\n",
        "y2 = float(input(f\"Enter the Y of Another Point: \"))\n",
        "\n",
        "# Formula to find the euclidean distance between two coordinates.\n",
        "d = (((x2-x1)**2)+((y2-y1)**2))**0.5\n",
        "\n",
        "print(f\"The Euclidean distance between two points{(x1,y1)} & {(x2,y2)} is {d} units.\")\n"
      ],
      "metadata": {
        "id": "Pl1Sv-xnrxnH",
        "outputId": "55bc58bd-0788-4cf9-a4d6-90aa95ce7ee6",
        "colab": {
          "base_uri": "https://localhost:8080/"
        }
      },
      "execution_count": null,
      "outputs": [
        {
          "output_type": "stream",
          "name": "stdout",
          "text": [
            "Enter the X of First Point: 10\n",
            "Enter the Y of First Point: 20\n",
            "Enter the X of Another Point: 40\n",
            "Enter the Y of Another Point: 60\n",
            "The Euclidean distance between two points(10.0, 20.0) & (40.0, 60.0) is 50.0 units.\n"
          ]
        }
      ]
    },
    {
      "cell_type": "markdown",
      "source": [
        "### Q5:- Write a program to find the simple interest when the value of principle,rate of interest and time period is provided by the user.\n"
      ],
      "metadata": {
        "id": "VLrhg-FRsHjR"
      }
    },
    {
      "cell_type": "code",
      "source": [
        "principal = float(input(f\"Enter the Principal Amount: \"))\n",
        "interest_rate = float(input(f\"Enter the interest rate (in percentage): \"))\n",
        "time_period = float(input(f\"Enter the time duration (in years): \"))\n",
        "\n",
        "#formula to find the simple interest.\n",
        "\n",
        "simple_interest = (principal*interest_rate*time_period)/100\n",
        "\n",
        "print(f\"The Simple Interest at the end of {time_period} year will be Rs.{simple_interest}.\")"
      ],
      "metadata": {
        "id": "oBjn2--bU9VN",
        "outputId": "287a4902-a43e-4c17-c4fe-4b86b0b952dd",
        "colab": {
          "base_uri": "https://localhost:8080/"
        }
      },
      "execution_count": null,
      "outputs": [
        {
          "output_type": "stream",
          "name": "stdout",
          "text": [
            "Enter the Principal Amount: 2000\n",
            "Enter the interest rate (in percentage): 10\n",
            "Enter the time duration (in years): 1\n",
            "The Simple Interest at the end of 1.0 year will be Rs.200.0.\n"
          ]
        }
      ]
    },
    {
      "cell_type": "markdown",
      "source": [
        "### Q6:- Write a program that will tell the number of dogs and chicken are there when the user will provide the value of total heads and legs.\n",
        "\n",
        "For example:\n",
        "Input:\n",
        "heads -> 4\n",
        "legs -> 12\n",
        "<br>\n",
        "Output:\n",
        "dogs -> 2\n",
        "chicken -> 2\n",
        "\n",
        "\n",
        "\n"
      ],
      "metadata": {
        "id": "LMy0BTUktYKa"
      }
    },
    {
      "cell_type": "code",
      "source": [
        "heads = int(input(f\"Enter the Number of Heads: \"))\n",
        "legs = int(input(f\"Enter the Number of legs: \"))\n",
        "while legs%2 != 0:\n",
        "  print(f\"Invalid Input..!\")\n",
        "  legs = int(input(f\"Enter the Number of legs: \"))\n",
        "\n",
        "at_least_legs = heads * 2\n",
        "remaining_legs = legs - at_least_legs\n",
        "dogs = remaining_legs/2\n",
        "chicken = heads - dogs\n",
        "\n",
        "print(f\"There will be {int(dogs)} Dogs & {int(chicken)} Chickens.\")"
      ],
      "metadata": {
        "id": "XSBvJoA4tXaG",
        "outputId": "7c0e3c2e-e726-4213-eb52-949454c4160b",
        "colab": {
          "base_uri": "https://localhost:8080/"
        }
      },
      "execution_count": null,
      "outputs": [
        {
          "output_type": "stream",
          "name": "stdout",
          "text": [
            "Enter the Number of Heads: 200\n",
            "Enter the Number of legs: 540\n",
            "There will be 70 Dogs & 130 Chickens.\n"
          ]
        }
      ]
    },
    {
      "cell_type": "markdown",
      "source": [
        "### Q7:- Write a program to find the sum of squares of first n natural numbers where n will be provided by the user."
      ],
      "metadata": {
        "id": "gJ7C5kZYt4BP"
      }
    },
    {
      "cell_type": "code",
      "source": [
        "n = int(input(f\"Enter the value of First n Natural Number: \"))\n",
        "\n",
        "result = (n*(n+1)*((2*n)+1))/6\n",
        "\n",
        "print(f\"The Sum of Squares of {n}th Natural Numbers will be {result}.\")"
      ],
      "metadata": {
        "id": "_tHsmEHzt2nX",
        "outputId": "9e5e5070-1634-45f8-ac59-e67864835c50",
        "colab": {
          "base_uri": "https://localhost:8080/"
        }
      },
      "execution_count": null,
      "outputs": [
        {
          "output_type": "stream",
          "name": "stdout",
          "text": [
            "Enter the value of First n Natural Number: 9\n",
            "The Sum of Squares of 9th Natural Numbers will be 285.0.\n"
          ]
        }
      ]
    },
    {
      "cell_type": "markdown",
      "source": [
        "### Q8:- Given the first 2 terms of an Arithmetic Series.Find the Nth term of the series. Assume all inputs are provided by the user."
      ],
      "metadata": {
        "id": "FHrMM7g-yG1h"
      }
    },
    {
      "cell_type": "code",
      "source": [
        "a1 = float(input(f\"Enter the First Term: \"))\n",
        "a2 = float(input(f\"Enter the Second Term: \"))\n",
        "\n",
        "n = float(input(f\"Enter the Term for which you're looking for: \"))\n",
        "\n",
        "d = a2-a1\n",
        "\n",
        "a_n = a1 + (n-1)*d\n",
        "\n",
        "print(f\"The Value of {n}th term in given Sequence will be {a_n}.\")"
      ],
      "metadata": {
        "id": "go4_kmZmyVSx",
        "outputId": "a59ea214-939e-4772-a7be-1a0e41c26eef",
        "colab": {
          "base_uri": "https://localhost:8080/"
        }
      },
      "execution_count": null,
      "outputs": [
        {
          "output_type": "stream",
          "name": "stdout",
          "text": [
            "Enter the First Term: 4\n",
            "Enter the Second Term: 8\n",
            "Enter the Term for which you're looking for: 12\n",
            "The Value of 12.0th term in given Sequence will be 48.0.\n"
          ]
        }
      ]
    },
    {
      "cell_type": "markdown",
      "source": [
        "### Q9:- Given 2 fractions, find the sum of those 2 fractions.Take the numerator and denominator values of the fractions from the user."
      ],
      "metadata": {
        "id": "QgyRX_es1oum"
      }
    },
    {
      "cell_type": "code",
      "source": [
        "n1 = int(input(f\"Enter the Numerator value of First Fraction: \"))\n",
        "d1 = int(input(f\"Enter the Denominator value of First Fraction: \"))\n",
        "\n",
        "n2 = int(input(f\"Enter the Numerator value of Second Fraction: \"))\n",
        "d2 = int(input(f\"Enter the Denominator value of Second Fraction: \"))\n",
        "\n",
        "n3 = ((n1*d2)+(n2*d1))\n",
        "d3 = d1*d2\n",
        "\n",
        "print(f\"The Sum of {n1}/{d1} and {n2}/{d2} will be {n3}/{d3}.\")"
      ],
      "metadata": {
        "id": "X05xqFS1yW16",
        "outputId": "d8948ddf-9114-4354-ed4d-c4b8e44b8ef9",
        "colab": {
          "base_uri": "https://localhost:8080/"
        }
      },
      "execution_count": null,
      "outputs": [
        {
          "output_type": "stream",
          "name": "stdout",
          "text": [
            "Enter the Numerator value of First Fraction: 3\n",
            "Enter the Denominator value of First Fraction: 4\n",
            "Enter the Numerator value of Second Fraction: 1\n",
            "Enter the Denominator value of Second Fraction: 9\n",
            "The Sum of 3/4 and 1/9 will be 31/36.\n"
          ]
        }
      ]
    },
    {
      "cell_type": "markdown",
      "source": [
        "### Q10:- Given the height, width and breadth of a milk tank, you have to find out how many glasses of milk can be obtained? Assume all the inputs are provided by the user.\n",
        "\n",
        "\n",
        "\n",
        "Input:<br>\n",
        "Dimensions of the milk tank<br>\n",
        "H = 20cm, L = 20cm, B = 20cm\n",
        "<br><br>\n",
        "Dimensions of the glass<br>\n",
        "h = 3cm, r = 1cm"
      ],
      "metadata": {
        "id": "eaql38ln13u7"
      }
    },
    {
      "cell_type": "code",
      "source": [
        "# we can compare milk tank with Cuboid & glass with cylinder.\n",
        "l = float(input(f\"Enter the Length of Milk Tank: \"))\n",
        "b = float(input(f\"Enter the Breadth of Milk Tank: \"))\n",
        "h = float(input(f\"Enter the Height of Milk Tank: \"))\n",
        "\n",
        "r = float(input(f\"Enter the Radius of Glass: \"))\n",
        "h = float(input(f\"Enter the Height of Glass: \"))\n",
        "\n",
        "volume_milk_tank = l*b*h\n",
        "volume_glass = 3.142 * (r**2) * h\n",
        "\n",
        "result = volume_milk_tank/volume_glass\n",
        "print(f\"Almost {round(result,2)} Glasses of Milk can be obtained from Milk Tank.\")"
      ],
      "metadata": {
        "id": "FePZqno74eWv",
        "outputId": "fbbad902-0a3d-489c-9fd0-88028908d312",
        "colab": {
          "base_uri": "https://localhost:8080/"
        }
      },
      "execution_count": null,
      "outputs": [
        {
          "output_type": "stream",
          "name": "stdout",
          "text": [
            "Enter the Length of Milk Tank: 20\n",
            "Enter the Breadth of Milk Tank: 15\n",
            "Enter the Height of Milk Tank: 10\n",
            "Enter the Radius of Glass: 5\n",
            "Enter the Height of Glass: 3\n",
            "Almost 3.82 Glasses of Milk can be obtained from Milk Tank.\n"
          ]
        }
      ]
    }
  ]
}